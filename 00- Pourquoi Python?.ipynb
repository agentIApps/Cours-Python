{
 "cells": [
  {
   "cell_type": "markdown",
   "metadata": {},
   "source": [
    "<div class=\"alert alert-block alert-info\" style=\"background-color: #3398FF; border: 0px; -moz-border-radius: 10px; -webkit-border-radius: 10px;\">\n",
    "<h2 style=\"color: white\">\n",
    "00- Pourquoi Python?\n",
    "</h2><br>\n",
    "</div>"
   ]
  },
  {
   "cell_type": "markdown",
   "metadata": {},
   "source": [
    "- Le secteur financier est en constante évolution et désormais les institutions financières ne se préoccupent plus seulement de la finance, mais aussi de la technologie en tant qu'actif stratégique, notamment à cause de l'avantage concurrentiel qu'elle peut offrir par exemple au niveau de la rapidité et la fréquence des paiements er transactions.\n"
   ]
  },
  {
   "cell_type": "markdown",
   "metadata": {},
   "source": [
    "- Python est l'un des languages de programmation les plus polulaires tous secteurs confondus et le langage le plus populaire en finance. \n",
    "<img src=\"Lea languages les plus populaires en 2021.png\" width=600 height=200 />"
   ]
  },
  {
   "cell_type": "markdown",
   "metadata": {},
   "source": [
    "- Python est un langage de programmation de **haut niveau** (plus proche du language humain que language machine) orienté autour du problème à résoudre, qui permet d'écrire des programmes en utilisant des mots usuels des langues naturelles (très souvent de l'anglais) et des symboles mathématiques familiers (wikipedia).\n",
    "\n",
    "<img src=\"python language.jpeg\" width=400 height=400 />"
   ]
  },
  {
   "cell_type": "markdown",
   "metadata": {},
   "source": [
    "- Python est connu pour sa syntaxe simple. C'est pourquoi python est trés utilisé en finance car les non-programmeurs peuvent facilement l'apprendre. Voici un exemple qui illustre la simplicité de Python par rapport à Java ( un autre language très populaire):\n",
    "\n",
    "|Python |Java\n",
    "|:------- |:---------:|\n",
    "|print (\"Bienvenue au FIN30521\")      | public class welcome {|\n",
    "|                                    | public static void main (String args[ ] ) {| \n",
    "|                                    |System.out.println (“Bienvenue au FIN30521 ”) ;|\n",
    "|                                    |}|\n",
    "|                                    |}|\n",
    "\n"
   ]
  },
  {
   "cell_type": "markdown",
   "metadata": {},
   "source": [
    "- Python est un langage de programmation orienté objet qui est open source. La majorité des outils et bibliothèques de support sont open source et disponibles gratuitement.  Par exemple, Python peut être utilisé pour importer des données financières telles que des cotations boursières à l'aide du framework Pandas. \n"
   ]
  }
 ],
 "metadata": {
  "hide_input": false,
  "kernelspec": {
   "display_name": "Python 3 (ipykernel)",
   "language": "python",
   "name": "python3"
  },
  "language_info": {
   "codemirror_mode": {
    "name": "ipython",
    "version": 3
   },
   "file_extension": ".py",
   "mimetype": "text/x-python",
   "name": "python",
   "nbconvert_exporter": "python",
   "pygments_lexer": "ipython3",
   "version": "3.9.7"
  },
  "toc": {
   "base_numbering": 1,
   "nav_menu": {},
   "number_sections": true,
   "sideBar": true,
   "skip_h1_title": false,
   "title_cell": "Table of Contents",
   "title_sidebar": "Contents",
   "toc_cell": false,
   "toc_position": {
    "height": "calc(100% - 180px)",
    "left": "10px",
    "top": "150px",
    "width": "466.323px"
   },
   "toc_section_display": true,
   "toc_window_display": false
  }
 },
 "nbformat": 4,
 "nbformat_minor": 4
}
